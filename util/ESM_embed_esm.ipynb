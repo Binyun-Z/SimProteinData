{
 "cells": [
  {
   "attachments": {},
   "cell_type": "markdown",
   "metadata": {},
   "source": [
    "## 使用ESM-1b预训练模型提取特征向量\n",
    "参考：https://github.com/facebookresearch/esm/blob/c9c7d4f0fec964ce10c3e11dccec6c16edaa5144/scripts/extract.py"
   ]
  },
  {
   "cell_type": "code",
   "execution_count": 5,
   "metadata": {},
   "outputs": [],
   "source": [
    "DATA_PATH = \"../data/\" # Path to data\n",
    "EMBED_PATH =DATA_PATH+'/ESM_embed/'\n",
    "EMB_LAYER = 33"
   ]
  },
  {
   "cell_type": "code",
   "execution_count": 6,
   "metadata": {},
   "outputs": [],
   "source": [
    "import pathlib\n",
    "import pandas as pd\n",
    "import torch\n",
    "\n",
    "from esm import Alphabet, FastaBatchedDataset, ProteinBertModel, pretrained, MSATransformer\n",
    "\n",
    "\n",
    "import os\n",
    "\n",
    "class ProteinExtractionParams:\n",
    "    def __init__(\n",
    "        self,\n",
    "        model_location=None,\n",
    "        fasta_file = None,\n",
    "        csv_file = None,\n",
    "        output_dir = None,\n",
    "        toks_per_batch=4096,\n",
    "        repr_layers=[-1],\n",
    "        include='mean',\n",
    "        truncation_seq_length=512,\n",
    "        nogpu=False,\n",
    "    ):\n",
    "        self.model_location = model_location\n",
    "        self.fasta_file = fasta_file\n",
    "        self.csv_file = csv_file\n",
    "\n",
    "        self.output_dir = pathlib.Path(output_dir)\n",
    "        if not os.path.exists(output_dir):\n",
    "            os.makedirs(output_dir)\n",
    "        self.toks_per_batch = toks_per_batch\n",
    "        self.repr_layers = repr_layers\n",
    "        self.include = include\n",
    "        self.truncation_seq_length = truncation_seq_length\n",
    "        self.nogpu = nogpu\n",
    "\n",
    "\n",
    "def run(args):\n",
    "    model, alphabet = pretrained.esm2_t33_650M_UR50D()\n",
    "    model.eval()\n",
    "    if isinstance(model, MSATransformer):\n",
    "        raise ValueError(\n",
    "            \"This script currently does not handle models with MSA input (MSA Transformer).\"\n",
    "        )\n",
    "    if torch.cuda.is_available() and not args.nogpu:\n",
    "        model = model.cuda()\n",
    "        print(\"Transferred model to GPU\")\n",
    "\n",
    "\n",
    "    if(args.fasta_file):\n",
    "        dataset = FastaBatchedDataset.from_file(args.fasta_file)\n",
    "        batches = dataset.get_batch_indices(args.toks_per_batch, extra_toks_per_seq=1)\n",
    "        data_loader = torch.utils.data.DataLoader(\n",
    "            dataset, collate_fn=alphabet.get_batch_converter(args.truncation_seq_length), batch_sampler=batches\n",
    "        )\n",
    "        print(f\"Read {args.fasta_file} with {len(dataset)} sequences\")\n",
    "    elif(args.csv_file):\n",
    "        data_df = pd.read_csv(args.csv_file)\n",
    "        \n",
    "        protein_id = data_df['id']\n",
    "        # class FastaBatchedDataset(object):\n",
    "        #     def __init__(self, sequence_labels, sequence_strs):\n",
    "        #         self.sequence_labels = list(sequence_labels)\n",
    "        #         self.sequence_strs = list(sequence_strs)\n",
    "        dataset = FastaBatchedDataset(data_df['id'],data_df['seq'])\n",
    "        batches = dataset.get_batch_indices(args.toks_per_batch, extra_toks_per_seq=1)\n",
    "        data_loader = torch.utils.data.DataLoader(\n",
    "            dataset, collate_fn=alphabet.get_batch_converter(args.truncation_seq_length), batch_sampler=batches\n",
    "        )\n",
    "        print(f\"Read {args.csv_file} with {len(dataset)} sequences\")\n",
    "    else:\n",
    "        print('no file!')\n",
    "\n",
    "    args.output_dir.mkdir(parents=True, exist_ok=True)\n",
    "    return_contacts = \"contacts\" in args.include                                                                                                                                \n",
    "\n",
    "    assert all(-(model.num_layers + 1) <= i <= model.num_layers for i in args.repr_layers)\n",
    "    repr_layers = [(i + model.num_layers + 1) % (model.num_layers + 1) for i in args.repr_layers]\n",
    "\n",
    "    with torch.no_grad():\n",
    "        for batch_idx, (labels, strs, toks) in enumerate(data_loader):\n",
    "            print(\n",
    "                f\"Processing {batch_idx + 1} of {len(batches)} batches ({toks.size(0)} sequences)\"\n",
    "            )\n",
    "            if torch.cuda.is_available() and not args.nogpu:\n",
    "                toks = toks.to(device=\"cuda\", non_blocking=True)\n",
    "\n",
    "            out = model(toks, repr_layers=repr_layers, return_contacts=return_contacts)\n",
    "\n",
    "            logits = out[\"logits\"].to(device=\"cpu\")\n",
    "            representations = {\n",
    "                layer: t.to(device=\"cpu\") for layer, t in out[\"representations\"].items()\n",
    "            }\n",
    "            if return_contacts:\n",
    "                contacts = out[\"contacts\"].to(device=\"cpu\")\n",
    "\n",
    "            for i, label in enumerate(labels):\n",
    "                args.output_file = args.output_dir / f\"{label}.pt\"\n",
    "                args.output_file.parent.mkdir(parents=True, exist_ok=True)\n",
    "                result = {\"label\": label}\n",
    "                truncate_len = min(args.truncation_seq_length, len(strs[i]))\n",
    "                # Call clone on tensors to ensure tensors are not views into a larger representation\n",
    "                # See https://github.com/pytorch/pytorch/issues/1995\n",
    "                if \"per_tok\" in args.include:\n",
    "                    result[\"representations\"] = {\n",
    "                        layer: t[i, 1 : truncate_len + 1].clone()\n",
    "                        for layer, t in representations.items()\n",
    "                    }\n",
    "                if \"mean\" in args.include:\n",
    "                    result[\"mean_representations\"] = {\n",
    "                        layer: t[i, 1 : truncate_len + 1].mean(0).clone()\n",
    "                        for layer, t in representations.items()\n",
    "                    }\n",
    "                if \"bos\" in args.include:\n",
    "                    result[\"bos_representations\"] = {\n",
    "                        layer: t[i, 0].clone() for layer, t in representations.items()\n",
    "                    }\n",
    "                if return_contacts:\n",
    "                    result[\"contacts\"] = contacts[i, : truncate_len, : truncate_len].clone()\n",
    "\n",
    "                torch.save(\n",
    "                    result,\n",
    "                    args.output_file,\n",
    "                )\n"
   ]
  },
  {
   "cell_type": "code",
   "execution_count": 7,
   "metadata": {},
   "outputs": [],
   "source": [
    "def extract_embed(data_file):\n",
    "    input_data  =DATA_PATH+data_file\n",
    "    output_dir = EMBED_PATH+data_file.split('.')[0]\n",
    "    args = ProteinExtractionParams(csv_file=input_data,output_dir=output_dir)\n",
    "    run(args)\n",
    "    print('Extract ESM embeddings for {}, save in {}'.format(input_data,output_dir))"
   ]
  },
  {
   "cell_type": "code",
   "execution_count": 8,
   "metadata": {},
   "outputs": [
    {
     "name": "stdout",
     "output_type": "stream",
     "text": [
      "DMS_substitutions.csv\n"
     ]
    },
    {
     "name": "stderr",
     "output_type": "stream",
     "text": [
      "Downloading: \"https://dl.fbaipublicfiles.com/fair-esm/models/esm2_t33_650M_UR50D.pt\" to /home/binyun/.cache/torch/hub/checkpoints/esm2_t33_650M_UR50D.pt\n",
      "Downloading: \"https://dl.fbaipublicfiles.com/fair-esm/regression/esm2_t33_650M_UR50D-contact-regression.pt\" to /home/binyun/.cache/torch/hub/checkpoints/esm2_t33_650M_UR50D-contact-regression.pt\n"
     ]
    },
    {
     "name": "stdout",
     "output_type": "stream",
     "text": [
      "Transferred model to GPU\n"
     ]
    },
    {
     "ename": "KeyError",
     "evalue": "'id'",
     "output_type": "error",
     "traceback": [
      "\u001b[0;31m---------------------------------------------------------------------------\u001b[0m",
      "\u001b[0;31mKeyError\u001b[0m                                  Traceback (most recent call last)",
      "File \u001b[0;32m~/miniforge3/envs/esm/lib/python3.12/site-packages/pandas/core/indexes/base.py:3805\u001b[0m, in \u001b[0;36mIndex.get_loc\u001b[0;34m(self, key)\u001b[0m\n\u001b[1;32m   3804\u001b[0m \u001b[38;5;28;01mtry\u001b[39;00m:\n\u001b[0;32m-> 3805\u001b[0m     \u001b[38;5;28;01mreturn\u001b[39;00m \u001b[38;5;28;43mself\u001b[39;49m\u001b[38;5;241;43m.\u001b[39;49m\u001b[43m_engine\u001b[49m\u001b[38;5;241;43m.\u001b[39;49m\u001b[43mget_loc\u001b[49m\u001b[43m(\u001b[49m\u001b[43mcasted_key\u001b[49m\u001b[43m)\u001b[49m\n\u001b[1;32m   3806\u001b[0m \u001b[38;5;28;01mexcept\u001b[39;00m \u001b[38;5;167;01mKeyError\u001b[39;00m \u001b[38;5;28;01mas\u001b[39;00m err:\n",
      "File \u001b[0;32mindex.pyx:167\u001b[0m, in \u001b[0;36mpandas._libs.index.IndexEngine.get_loc\u001b[0;34m()\u001b[0m\n",
      "File \u001b[0;32mindex.pyx:196\u001b[0m, in \u001b[0;36mpandas._libs.index.IndexEngine.get_loc\u001b[0;34m()\u001b[0m\n",
      "File \u001b[0;32mpandas/_libs/hashtable_class_helper.pxi:7081\u001b[0m, in \u001b[0;36mpandas._libs.hashtable.PyObjectHashTable.get_item\u001b[0;34m()\u001b[0m\n",
      "File \u001b[0;32mpandas/_libs/hashtable_class_helper.pxi:7089\u001b[0m, in \u001b[0;36mpandas._libs.hashtable.PyObjectHashTable.get_item\u001b[0;34m()\u001b[0m\n",
      "\u001b[0;31mKeyError\u001b[0m: 'id'",
      "\nThe above exception was the direct cause of the following exception:\n",
      "\u001b[0;31mKeyError\u001b[0m                                  Traceback (most recent call last)",
      "Cell \u001b[0;32mIn[8], line 4\u001b[0m\n\u001b[1;32m      2\u001b[0m \u001b[38;5;28;01mif\u001b[39;00m file\u001b[38;5;241m.\u001b[39mendswith(\u001b[38;5;124m'\u001b[39m\u001b[38;5;124m.csv\u001b[39m\u001b[38;5;124m'\u001b[39m):\n\u001b[1;32m      3\u001b[0m     \u001b[38;5;28mprint\u001b[39m(file)\n\u001b[0;32m----> 4\u001b[0m     \u001b[43mextract_embed\u001b[49m\u001b[43m(\u001b[49m\u001b[43mfile\u001b[49m\u001b[43m)\u001b[49m\n",
      "Cell \u001b[0;32mIn[7], line 5\u001b[0m, in \u001b[0;36mextract_embed\u001b[0;34m(data_file)\u001b[0m\n\u001b[1;32m      3\u001b[0m output_dir \u001b[38;5;241m=\u001b[39m EMBED_PATH\u001b[38;5;241m+\u001b[39mdata_file\u001b[38;5;241m.\u001b[39msplit(\u001b[38;5;124m'\u001b[39m\u001b[38;5;124m.\u001b[39m\u001b[38;5;124m'\u001b[39m)[\u001b[38;5;241m0\u001b[39m]\n\u001b[1;32m      4\u001b[0m args \u001b[38;5;241m=\u001b[39m ProteinExtractionParams(csv_file\u001b[38;5;241m=\u001b[39minput_data,output_dir\u001b[38;5;241m=\u001b[39moutput_dir)\n\u001b[0;32m----> 5\u001b[0m \u001b[43mrun\u001b[49m\u001b[43m(\u001b[49m\u001b[43margs\u001b[49m\u001b[43m)\u001b[49m\n\u001b[1;32m      6\u001b[0m \u001b[38;5;28mprint\u001b[39m(\u001b[38;5;124m'\u001b[39m\u001b[38;5;124mExtract ESM embeddings for \u001b[39m\u001b[38;5;132;01m{}\u001b[39;00m\u001b[38;5;124m, save in \u001b[39m\u001b[38;5;132;01m{}\u001b[39;00m\u001b[38;5;124m'\u001b[39m\u001b[38;5;241m.\u001b[39mformat(input_data,output_dir))\n",
      "Cell \u001b[0;32mIn[6], line 59\u001b[0m, in \u001b[0;36mrun\u001b[0;34m(args)\u001b[0m\n\u001b[1;32m     56\u001b[0m \u001b[38;5;28;01melif\u001b[39;00m(args\u001b[38;5;241m.\u001b[39mcsv_file):\n\u001b[1;32m     57\u001b[0m     data_df \u001b[38;5;241m=\u001b[39m pd\u001b[38;5;241m.\u001b[39mread_csv(args\u001b[38;5;241m.\u001b[39mcsv_file)\n\u001b[0;32m---> 59\u001b[0m     protein_id \u001b[38;5;241m=\u001b[39m \u001b[43mdata_df\u001b[49m\u001b[43m[\u001b[49m\u001b[38;5;124;43m'\u001b[39;49m\u001b[38;5;124;43mid\u001b[39;49m\u001b[38;5;124;43m'\u001b[39;49m\u001b[43m]\u001b[49m\n\u001b[1;32m     60\u001b[0m     \u001b[38;5;66;03m# class FastaBatchedDataset(object):\u001b[39;00m\n\u001b[1;32m     61\u001b[0m     \u001b[38;5;66;03m#     def __init__(self, sequence_labels, sequence_strs):\u001b[39;00m\n\u001b[1;32m     62\u001b[0m     \u001b[38;5;66;03m#         self.sequence_labels = list(sequence_labels)\u001b[39;00m\n\u001b[1;32m     63\u001b[0m     \u001b[38;5;66;03m#         self.sequence_strs = list(sequence_strs)\u001b[39;00m\n\u001b[1;32m     64\u001b[0m     dataset \u001b[38;5;241m=\u001b[39m FastaBatchedDataset(data_df[\u001b[38;5;124m'\u001b[39m\u001b[38;5;124mid\u001b[39m\u001b[38;5;124m'\u001b[39m],data_df[\u001b[38;5;124m'\u001b[39m\u001b[38;5;124mseq\u001b[39m\u001b[38;5;124m'\u001b[39m])\n",
      "File \u001b[0;32m~/miniforge3/envs/esm/lib/python3.12/site-packages/pandas/core/frame.py:4102\u001b[0m, in \u001b[0;36mDataFrame.__getitem__\u001b[0;34m(self, key)\u001b[0m\n\u001b[1;32m   4100\u001b[0m \u001b[38;5;28;01mif\u001b[39;00m \u001b[38;5;28mself\u001b[39m\u001b[38;5;241m.\u001b[39mcolumns\u001b[38;5;241m.\u001b[39mnlevels \u001b[38;5;241m>\u001b[39m \u001b[38;5;241m1\u001b[39m:\n\u001b[1;32m   4101\u001b[0m     \u001b[38;5;28;01mreturn\u001b[39;00m \u001b[38;5;28mself\u001b[39m\u001b[38;5;241m.\u001b[39m_getitem_multilevel(key)\n\u001b[0;32m-> 4102\u001b[0m indexer \u001b[38;5;241m=\u001b[39m \u001b[38;5;28;43mself\u001b[39;49m\u001b[38;5;241;43m.\u001b[39;49m\u001b[43mcolumns\u001b[49m\u001b[38;5;241;43m.\u001b[39;49m\u001b[43mget_loc\u001b[49m\u001b[43m(\u001b[49m\u001b[43mkey\u001b[49m\u001b[43m)\u001b[49m\n\u001b[1;32m   4103\u001b[0m \u001b[38;5;28;01mif\u001b[39;00m is_integer(indexer):\n\u001b[1;32m   4104\u001b[0m     indexer \u001b[38;5;241m=\u001b[39m [indexer]\n",
      "File \u001b[0;32m~/miniforge3/envs/esm/lib/python3.12/site-packages/pandas/core/indexes/base.py:3812\u001b[0m, in \u001b[0;36mIndex.get_loc\u001b[0;34m(self, key)\u001b[0m\n\u001b[1;32m   3807\u001b[0m     \u001b[38;5;28;01mif\u001b[39;00m \u001b[38;5;28misinstance\u001b[39m(casted_key, \u001b[38;5;28mslice\u001b[39m) \u001b[38;5;129;01mor\u001b[39;00m (\n\u001b[1;32m   3808\u001b[0m         \u001b[38;5;28misinstance\u001b[39m(casted_key, abc\u001b[38;5;241m.\u001b[39mIterable)\n\u001b[1;32m   3809\u001b[0m         \u001b[38;5;129;01mand\u001b[39;00m \u001b[38;5;28many\u001b[39m(\u001b[38;5;28misinstance\u001b[39m(x, \u001b[38;5;28mslice\u001b[39m) \u001b[38;5;28;01mfor\u001b[39;00m x \u001b[38;5;129;01min\u001b[39;00m casted_key)\n\u001b[1;32m   3810\u001b[0m     ):\n\u001b[1;32m   3811\u001b[0m         \u001b[38;5;28;01mraise\u001b[39;00m InvalidIndexError(key)\n\u001b[0;32m-> 3812\u001b[0m     \u001b[38;5;28;01mraise\u001b[39;00m \u001b[38;5;167;01mKeyError\u001b[39;00m(key) \u001b[38;5;28;01mfrom\u001b[39;00m \u001b[38;5;21;01merr\u001b[39;00m\n\u001b[1;32m   3813\u001b[0m \u001b[38;5;28;01mexcept\u001b[39;00m \u001b[38;5;167;01mTypeError\u001b[39;00m:\n\u001b[1;32m   3814\u001b[0m     \u001b[38;5;66;03m# If we have a listlike key, _check_indexing_error will raise\u001b[39;00m\n\u001b[1;32m   3815\u001b[0m     \u001b[38;5;66;03m#  InvalidIndexError. Otherwise we fall through and re-raise\u001b[39;00m\n\u001b[1;32m   3816\u001b[0m     \u001b[38;5;66;03m#  the TypeError.\u001b[39;00m\n\u001b[1;32m   3817\u001b[0m     \u001b[38;5;28mself\u001b[39m\u001b[38;5;241m.\u001b[39m_check_indexing_error(key)\n",
      "\u001b[0;31mKeyError\u001b[0m: 'id'"
     ]
    }
   ],
   "source": [
    "for file in os.listdir(DATA_PATH):\n",
    "    if file.endswith('.csv'):\n",
    "        print(file)\n",
    "        extract_embed(file)"
   ]
  },
  {
   "cell_type": "code",
   "execution_count": null,
   "metadata": {},
   "outputs": [],
   "source": []
  }
 ],
 "metadata": {
  "kernelspec": {
   "display_name": "Xihe",
   "language": "python",
   "name": "python3"
  },
  "language_info": {
   "codemirror_mode": {
    "name": "ipython",
    "version": 3
   },
   "file_extension": ".py",
   "mimetype": "text/x-python",
   "name": "python",
   "nbconvert_exporter": "python",
   "pygments_lexer": "ipython3",
   "version": "3.12.4"
  },
  "orig_nbformat": 4
 },
 "nbformat": 4,
 "nbformat_minor": 2
}
